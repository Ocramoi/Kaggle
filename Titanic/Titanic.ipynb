{
 "cells": [
  {
   "cell_type": "markdown",
   "source": [
    "# Imports"
   ],
   "metadata": {
    "collapsed": false,
    "pycharm": {
     "name": "#%% md\n"
    }
   }
  },
  {
   "cell_type": "code",
   "execution_count": 23,
   "metadata": {
    "collapsed": true
   },
   "outputs": [
    {
     "name": "stderr",
     "output_type": "stream",
     "text": [
      "Matplotlib is building the font cache; this may take a moment.\n"
     ]
    }
   ],
   "source": [
    "from sklearn.neighbors import KNeighborsClassifier\n",
    "from sklearn.model_selection import train_test_split\n",
    "import pandas as pd\n",
    "import matplotlib.pyplot as plt"
   ]
  },
  {
   "cell_type": "markdown",
   "source": [
    "# Train processing\n",
    "\n",
    "male = 0\n",
    "female = 1"
   ],
   "metadata": {
    "collapsed": false,
    "pycharm": {
     "name": "#%% md\n"
    }
   }
  },
  {
   "cell_type": "code",
   "execution_count": 59,
   "outputs": [
    {
     "name": "stderr",
     "output_type": "stream",
     "text": [
      "c:\\users\\m antonio\\documents\\titanic\\venv\\lib\\site-packages\\ipykernel_launcher.py:3: SettingWithCopyWarning: \n",
      "A value is trying to be set on a copy of a slice from a DataFrame.\n",
      "Try using .loc[row_indexer,col_indexer] = value instead\n",
      "\n",
      "See the caveats in the documentation: https://pandas.pydata.org/pandas-docs/stable/user_guide/indexing.html#returning-a-view-versus-a-copy\n",
      "  This is separate from the ipykernel package so we can avoid doing imports until\n",
      "c:\\users\\m antonio\\documents\\titanic\\venv\\lib\\site-packages\\pandas\\core\\series.py:4523: SettingWithCopyWarning: \n",
      "A value is trying to be set on a copy of a slice from a DataFrame\n",
      "\n",
      "See the caveats in the documentation: https://pandas.pydata.org/pandas-docs/stable/user_guide/indexing.html#returning-a-view-versus-a-copy\n",
      "  downcast=downcast,\n"
     ]
    }
   ],
   "source": [
    "trainDf = pd.read_csv(\"train.csv\")\n",
    "Xknn = trainDf[[\"Pclass\", \"Age\", \"Sex\"]]\n",
    "Xknn[\"Sex\"] = Xknn[\"Sex\"].apply(lambda x: 0 if x == \"male\" else 1)\n",
    "\n",
    "outcome = trainDf[\"Survived\"]\n",
    "\n",
    "Xknn.fillna(value= {\n",
    "                    \"Pclass\": Xknn['Pclass'].value_counts().max(),\n",
    "                    \"Sex\":    Xknn['Sex'].value_counts().max(),\n",
    "                    \"Age\":    Xknn['Age'].mean()\n",
    "                }, inplace=True)"
   ],
   "metadata": {
    "collapsed": false,
    "pycharm": {
     "name": "#%%\n"
    }
   }
  },
  {
   "cell_type": "markdown",
   "source": [
    "# KNN Model training"
   ],
   "metadata": {
    "collapsed": false
   }
  },
  {
   "cell_type": "code",
   "execution_count": 60,
   "outputs": [
    {
     "data": {
      "text/plain": "KNeighborsClassifier(n_neighbors=3)"
     },
     "execution_count": 60,
     "metadata": {},
     "output_type": "execute_result"
    }
   ],
   "source": [
    "Xknn_train, Xknn_test, yknn_train, yknn_test = train_test_split(Xknn, outcome, test_size=0.3, random_state=1, stratify=outcome)\n",
    "\n",
    "kNeighbors = 3\n",
    "model = KNeighborsClassifier(n_neighbors=kNeighbors)\n",
    "model.fit(Xknn_train, yknn_train)"
   ],
   "metadata": {
    "collapsed": false,
    "pycharm": {
     "name": "#%%\n"
    }
   }
  },
  {
   "cell_type": "markdown",
   "source": [
    "# Outcome knn"
   ],
   "metadata": {
    "collapsed": false,
    "pycharm": {
     "name": "#%% md\n"
    }
   }
  },
  {
   "cell_type": "code",
   "execution_count": 61,
   "outputs": [
    {
     "name": "stdout",
     "output_type": "stream",
     "text": [
      "Score knn: 0.7574626865671642\n"
     ]
    }
   ],
   "source": [
    "print(\"Score knn:\", model.score(Xknn_test, yknn_test))"
   ],
   "metadata": {
    "collapsed": false,
    "pycharm": {
     "name": "#%%\n"
    }
   }
  },
  {
   "cell_type": "markdown",
   "source": [
    "# Create file"
   ],
   "metadata": {
    "collapsed": false
   }
  },
  {
   "cell_type": "code",
   "execution_count": 62,
   "outputs": [
    {
     "name": "stderr",
     "output_type": "stream",
     "text": [
      "c:\\users\\m antonio\\documents\\titanic\\venv\\lib\\site-packages\\ipykernel_launcher.py:4: SettingWithCopyWarning: \n",
      "A value is trying to be set on a copy of a slice from a DataFrame.\n",
      "Try using .loc[row_indexer,col_indexer] = value instead\n",
      "\n",
      "See the caveats in the documentation: https://pandas.pydata.org/pandas-docs/stable/user_guide/indexing.html#returning-a-view-versus-a-copy\n",
      "  after removing the cwd from sys.path.\n",
      "c:\\users\\m antonio\\documents\\titanic\\venv\\lib\\site-packages\\pandas\\core\\series.py:4523: SettingWithCopyWarning: \n",
      "A value is trying to be set on a copy of a slice from a DataFrame\n",
      "\n",
      "See the caveats in the documentation: https://pandas.pydata.org/pandas-docs/stable/user_guide/indexing.html#returning-a-view-versus-a-copy\n",
      "  downcast=downcast,\n"
     ]
    }
   ],
   "source": [
    "testeDf = pd.read_csv(\"test.csv\")\n",
    "testeXknn = testeDf[[\"Pclass\", \"Age\", \"Sex\"]]\n",
    "testeXknn[\"Sex\"] = testeXknn[\"Sex\"].apply(lambda x: 0 if x == \"male\" else 1)\n",
    "testeXknn.fillna(value= {\n",
    "                        \"Pclass\": testeXknn['Pclass'].value_counts().max(),\n",
    "                        \"Sex\":    testeXknn['Sex'].value_counts().max(),\n",
    "                        \"Age\":    testeXknn['Age'].mean()\n",
    "                     }, inplace=True)\n",
    "testeDf[\"Survived\"] = model.predict(testeXknn)\n",
    "testeDf[[\"PassengerId\", \"Survived\"]].to_csv(\"knn.csv\", index=False)"
   ],
   "metadata": {
    "collapsed": false,
    "pycharm": {
     "name": "#%%\n"
    }
   }
  },
  {
   "cell_type": "markdown",
   "source": [
    "# Random forest"
   ],
   "metadata": {
    "collapsed": false,
    "pycharm": {
     "name": "#%% md\n"
    }
   }
  },
  {
   "cell_type": "code",
   "execution_count": 69,
   "outputs": [
    {
     "name": "stderr",
     "output_type": "stream",
     "text": [
      "c:\\users\\m antonio\\documents\\titanic\\venv\\lib\\site-packages\\ipykernel_launcher.py:7: SettingWithCopyWarning: \n",
      "A value is trying to be set on a copy of a slice from a DataFrame.\n",
      "Try using .loc[row_indexer,col_indexer] = value instead\n",
      "\n",
      "See the caveats in the documentation: https://pandas.pydata.org/pandas-docs/stable/user_guide/indexing.html#returning-a-view-versus-a-copy\n",
      "  import sys\n",
      "c:\\users\\m antonio\\documents\\titanic\\venv\\lib\\site-packages\\pandas\\core\\series.py:4523: SettingWithCopyWarning: \n",
      "A value is trying to be set on a copy of a slice from a DataFrame\n",
      "\n",
      "See the caveats in the documentation: https://pandas.pydata.org/pandas-docs/stable/user_guide/indexing.html#returning-a-view-versus-a-copy\n",
      "  downcast=downcast,\n",
      "c:\\users\\m antonio\\documents\\titanic\\venv\\lib\\site-packages\\ipykernel_launcher.py:26: SettingWithCopyWarning: \n",
      "A value is trying to be set on a copy of a slice from a DataFrame.\n",
      "Try using .loc[row_indexer,col_indexer] = value instead\n",
      "\n",
      "See the caveats in the documentation: https://pandas.pydata.org/pandas-docs/stable/user_guide/indexing.html#returning-a-view-versus-a-copy\n",
      "c:\\users\\m antonio\\documents\\titanic\\venv\\lib\\site-packages\\pandas\\core\\series.py:4523: SettingWithCopyWarning: \n",
      "A value is trying to be set on a copy of a slice from a DataFrame\n",
      "\n",
      "See the caveats in the documentation: https://pandas.pydata.org/pandas-docs/stable/user_guide/indexing.html#returning-a-view-versus-a-copy\n",
      "  downcast=downcast,\n"
     ]
    },
    {
     "name": "stdout",
     "output_type": "stream",
     "text": [
      "Score:  0.7947761194029851\n"
     ]
    }
   ],
   "source": [
    "from sklearn.ensemble import RandomForestClassifier\n",
    "\n",
    "trainDf = pd.read_csv(\"train.csv\")\n",
    "randForest = RandomForestClassifier(n_estimators=500, max_depth=7, random_state=42)\n",
    "\n",
    "Xrf = trainDf[[\"Pclass\", \"Age\", \"Sex\"]]\n",
    "Xrf[\"Sex\"] = Xrf[\"Sex\"].apply(lambda x: 0 if x == \"male\" else 1)\n",
    "\n",
    "rfY = trainDf[\"Survived\"].values\n",
    "\n",
    "Xrf.fillna(value= {\n",
    "                    \"Pclass\": Xrf['Pclass'].value_counts().max(),\n",
    "                    \"Sex\":    Xrf['Sex'].value_counts().max(),\n",
    "                    \"Age\":    Xrf['Age'].mean()\n",
    "                  }, inplace=True)\n",
    "\n",
    "\n",
    "rfXTrain, rfXTest, rfYTrain, rfYTest = train_test_split(Xrf, rfY, test_size=0.3, random_state=42)\n",
    "randForest.fit(rfXTrain, rfYTrain)\n",
    "\n",
    "print(\"Score: \", randForest.score(rfXTest, rfYTest))\n",
    "\n",
    "valRf = pd.read_csv(\"test.csv\")\n",
    "\n",
    "resRf = valRf[[\"Pclass\", \"Age\", \"Sex\"]]\n",
    "resRf[\"Sex\"] = resRf[\"Sex\"].apply(lambda x: 0 if x == \"male\" else 1)\n",
    "\n",
    "resRf.fillna(value= {\n",
    "                        \"Pclass\": resRf['Pclass'].value_counts().max(),\n",
    "                        \"Sex\":    resRf['Sex'].value_counts().max(),\n",
    "                        \"Age\":    resRf['Age'].mean()\n",
    "                    }, inplace=True)\n",
    "\n",
    "valRf[\"Survived\"] = randForest.predict(resRf)\n",
    "valRf[[\"PassengerId\", \"Survived\"]].to_csv(\"randForest.csv\", index=False)"
   ],
   "metadata": {
    "collapsed": false,
    "pycharm": {
     "name": "#%%\n"
    }
   }
  },
  {
   "cell_type": "markdown",
   "source": [
    "# MLP Classifier"
   ],
   "metadata": {
    "collapsed": false,
    "pycharm": {
     "name": "#%% md\n"
    }
   }
  },
  {
   "cell_type": "code",
   "execution_count": 86,
   "outputs": [
    {
     "name": "stdout",
     "output_type": "stream",
     "text": [
      "Score:  0.7910447761194029\n"
     ]
    },
    {
     "ename": "ValueError",
     "evalue": "matmul: Input operand 1 has a mismatch in its core dimension 0, with gufunc signature (n?,k),(k,m?)->(n?,m?) (size 11 is different from 10)",
     "output_type": "error",
     "traceback": [
      "\u001B[1;31m---------------------------------------------------------------------------\u001B[0m",
      "\u001B[1;31mValueError\u001B[0m                                Traceback (most recent call last)",
      "\u001B[1;32m<ipython-input-86-2f6a70a3a2e8>\u001B[0m in \u001B[0;36m<module>\u001B[1;34m\u001B[0m\n\u001B[0;32m     33\u001B[0m                       }, inplace=True)\n\u001B[0;32m     34\u001B[0m \u001B[1;33m\u001B[0m\u001B[0m\n\u001B[1;32m---> 35\u001B[1;33m \u001B[0mtestMlp\u001B[0m\u001B[1;33m[\u001B[0m\u001B[1;34m\"Survived\"\u001B[0m\u001B[1;33m]\u001B[0m \u001B[1;33m=\u001B[0m \u001B[0mmlpClass\u001B[0m\u001B[1;33m.\u001B[0m\u001B[0mpredict\u001B[0m\u001B[1;33m(\u001B[0m\u001B[0mpd\u001B[0m\u001B[1;33m.\u001B[0m\u001B[0mget_dummies\u001B[0m\u001B[1;33m(\u001B[0m\u001B[0mtestMlp\u001B[0m\u001B[1;33m[\u001B[0m\u001B[1;33m[\u001B[0m\u001B[1;34m\"Pclass\"\u001B[0m\u001B[1;33m,\u001B[0m \u001B[1;34m\"Sex\"\u001B[0m\u001B[1;33m,\u001B[0m \u001B[1;34m\"Age\"\u001B[0m\u001B[1;33m,\u001B[0m \u001B[1;34m\"SibSp\"\u001B[0m\u001B[1;33m,\u001B[0m \u001B[1;34m\"Parch\"\u001B[0m\u001B[1;33m,\u001B[0m \u001B[1;34m\"Fare\"\u001B[0m\u001B[1;33m,\u001B[0m \u001B[1;34m\"Embarked\"\u001B[0m\u001B[1;33m]\u001B[0m\u001B[1;33m]\u001B[0m\u001B[1;33m)\u001B[0m\u001B[1;33m)\u001B[0m\u001B[1;33m\u001B[0m\u001B[1;33m\u001B[0m\u001B[0m\n\u001B[0m\u001B[0;32m     36\u001B[0m \u001B[0mtestMlp\u001B[0m\u001B[1;33m[\u001B[0m\u001B[1;33m[\u001B[0m\u001B[1;34m\"PassengerId\"\u001B[0m\u001B[1;33m,\u001B[0m \u001B[1;34m\"Survived\"\u001B[0m\u001B[1;33m]\u001B[0m\u001B[1;33m]\u001B[0m\u001B[1;33m.\u001B[0m\u001B[0mto_csv\u001B[0m\u001B[1;33m(\u001B[0m\u001B[1;34m\"mlp.csv\"\u001B[0m\u001B[1;33m)\u001B[0m\u001B[1;33m\u001B[0m\u001B[1;33m\u001B[0m\u001B[0m\n\u001B[0;32m     37\u001B[0m \u001B[1;33m\u001B[0m\u001B[0m\n",
      "\u001B[1;32mc:\\users\\m antonio\\documents\\titanic\\venv\\lib\\site-packages\\sklearn\\neural_network\\_multilayer_perceptron.py\u001B[0m in \u001B[0;36mpredict\u001B[1;34m(self, X)\u001B[0m\n\u001B[0;32m   1002\u001B[0m         \"\"\"\n\u001B[0;32m   1003\u001B[0m         \u001B[0mcheck_is_fitted\u001B[0m\u001B[1;33m(\u001B[0m\u001B[0mself\u001B[0m\u001B[1;33m)\u001B[0m\u001B[1;33m\u001B[0m\u001B[1;33m\u001B[0m\u001B[0m\n\u001B[1;32m-> 1004\u001B[1;33m         \u001B[0my_pred\u001B[0m \u001B[1;33m=\u001B[0m \u001B[0mself\u001B[0m\u001B[1;33m.\u001B[0m\u001B[0m_predict\u001B[0m\u001B[1;33m(\u001B[0m\u001B[0mX\u001B[0m\u001B[1;33m)\u001B[0m\u001B[1;33m\u001B[0m\u001B[1;33m\u001B[0m\u001B[0m\n\u001B[0m\u001B[0;32m   1005\u001B[0m \u001B[1;33m\u001B[0m\u001B[0m\n\u001B[0;32m   1006\u001B[0m         \u001B[1;32mif\u001B[0m \u001B[0mself\u001B[0m\u001B[1;33m.\u001B[0m\u001B[0mn_outputs_\u001B[0m \u001B[1;33m==\u001B[0m \u001B[1;36m1\u001B[0m\u001B[1;33m:\u001B[0m\u001B[1;33m\u001B[0m\u001B[1;33m\u001B[0m\u001B[0m\n",
      "\u001B[1;32mc:\\users\\m antonio\\documents\\titanic\\venv\\lib\\site-packages\\sklearn\\neural_network\\_multilayer_perceptron.py\u001B[0m in \u001B[0;36m_predict\u001B[1;34m(self, X)\u001B[0m\n\u001B[0;32m    697\u001B[0m                                          layer_units[i + 1])))\n\u001B[0;32m    698\u001B[0m         \u001B[1;31m# forward propagate\u001B[0m\u001B[1;33m\u001B[0m\u001B[1;33m\u001B[0m\u001B[1;33m\u001B[0m\u001B[0m\n\u001B[1;32m--> 699\u001B[1;33m         \u001B[0mself\u001B[0m\u001B[1;33m.\u001B[0m\u001B[0m_forward_pass\u001B[0m\u001B[1;33m(\u001B[0m\u001B[0mactivations\u001B[0m\u001B[1;33m)\u001B[0m\u001B[1;33m\u001B[0m\u001B[1;33m\u001B[0m\u001B[0m\n\u001B[0m\u001B[0;32m    700\u001B[0m         \u001B[0my_pred\u001B[0m \u001B[1;33m=\u001B[0m \u001B[0mactivations\u001B[0m\u001B[1;33m[\u001B[0m\u001B[1;33m-\u001B[0m\u001B[1;36m1\u001B[0m\u001B[1;33m]\u001B[0m\u001B[1;33m\u001B[0m\u001B[1;33m\u001B[0m\u001B[0m\n\u001B[0;32m    701\u001B[0m \u001B[1;33m\u001B[0m\u001B[0m\n",
      "\u001B[1;32mc:\\users\\m antonio\\documents\\titanic\\venv\\lib\\site-packages\\sklearn\\neural_network\\_multilayer_perceptron.py\u001B[0m in \u001B[0;36m_forward_pass\u001B[1;34m(self, activations)\u001B[0m\n\u001B[0;32m    103\u001B[0m         \u001B[1;32mfor\u001B[0m \u001B[0mi\u001B[0m \u001B[1;32min\u001B[0m \u001B[0mrange\u001B[0m\u001B[1;33m(\u001B[0m\u001B[0mself\u001B[0m\u001B[1;33m.\u001B[0m\u001B[0mn_layers_\u001B[0m \u001B[1;33m-\u001B[0m \u001B[1;36m1\u001B[0m\u001B[1;33m)\u001B[0m\u001B[1;33m:\u001B[0m\u001B[1;33m\u001B[0m\u001B[1;33m\u001B[0m\u001B[0m\n\u001B[0;32m    104\u001B[0m             activations[i + 1] = safe_sparse_dot(activations[i],\n\u001B[1;32m--> 105\u001B[1;33m                                                  self.coefs_[i])\n\u001B[0m\u001B[0;32m    106\u001B[0m             \u001B[0mactivations\u001B[0m\u001B[1;33m[\u001B[0m\u001B[0mi\u001B[0m \u001B[1;33m+\u001B[0m \u001B[1;36m1\u001B[0m\u001B[1;33m]\u001B[0m \u001B[1;33m+=\u001B[0m \u001B[0mself\u001B[0m\u001B[1;33m.\u001B[0m\u001B[0mintercepts_\u001B[0m\u001B[1;33m[\u001B[0m\u001B[0mi\u001B[0m\u001B[1;33m]\u001B[0m\u001B[1;33m\u001B[0m\u001B[1;33m\u001B[0m\u001B[0m\n\u001B[0;32m    107\u001B[0m \u001B[1;33m\u001B[0m\u001B[0m\n",
      "\u001B[1;32mc:\\users\\m antonio\\documents\\titanic\\venv\\lib\\site-packages\\sklearn\\utils\\validation.py\u001B[0m in \u001B[0;36minner_f\u001B[1;34m(*args, **kwargs)\u001B[0m\n\u001B[0;32m     70\u001B[0m                           FutureWarning)\n\u001B[0;32m     71\u001B[0m         \u001B[0mkwargs\u001B[0m\u001B[1;33m.\u001B[0m\u001B[0mupdate\u001B[0m\u001B[1;33m(\u001B[0m\u001B[1;33m{\u001B[0m\u001B[0mk\u001B[0m\u001B[1;33m:\u001B[0m \u001B[0marg\u001B[0m \u001B[1;32mfor\u001B[0m \u001B[0mk\u001B[0m\u001B[1;33m,\u001B[0m \u001B[0marg\u001B[0m \u001B[1;32min\u001B[0m \u001B[0mzip\u001B[0m\u001B[1;33m(\u001B[0m\u001B[0msig\u001B[0m\u001B[1;33m.\u001B[0m\u001B[0mparameters\u001B[0m\u001B[1;33m,\u001B[0m \u001B[0margs\u001B[0m\u001B[1;33m)\u001B[0m\u001B[1;33m}\u001B[0m\u001B[1;33m)\u001B[0m\u001B[1;33m\u001B[0m\u001B[1;33m\u001B[0m\u001B[0m\n\u001B[1;32m---> 72\u001B[1;33m         \u001B[1;32mreturn\u001B[0m \u001B[0mf\u001B[0m\u001B[1;33m(\u001B[0m\u001B[1;33m**\u001B[0m\u001B[0mkwargs\u001B[0m\u001B[1;33m)\u001B[0m\u001B[1;33m\u001B[0m\u001B[1;33m\u001B[0m\u001B[0m\n\u001B[0m\u001B[0;32m     73\u001B[0m     \u001B[1;32mreturn\u001B[0m \u001B[0minner_f\u001B[0m\u001B[1;33m\u001B[0m\u001B[1;33m\u001B[0m\u001B[0m\n\u001B[0;32m     74\u001B[0m \u001B[1;33m\u001B[0m\u001B[0m\n",
      "\u001B[1;32mc:\\users\\m antonio\\documents\\titanic\\venv\\lib\\site-packages\\sklearn\\utils\\extmath.py\u001B[0m in \u001B[0;36msafe_sparse_dot\u001B[1;34m(a, b, dense_output)\u001B[0m\n\u001B[0;32m    151\u001B[0m             \u001B[0mret\u001B[0m \u001B[1;33m=\u001B[0m \u001B[0mnp\u001B[0m\u001B[1;33m.\u001B[0m\u001B[0mdot\u001B[0m\u001B[1;33m(\u001B[0m\u001B[0ma\u001B[0m\u001B[1;33m,\u001B[0m \u001B[0mb\u001B[0m\u001B[1;33m)\u001B[0m\u001B[1;33m\u001B[0m\u001B[1;33m\u001B[0m\u001B[0m\n\u001B[0;32m    152\u001B[0m     \u001B[1;32melse\u001B[0m\u001B[1;33m:\u001B[0m\u001B[1;33m\u001B[0m\u001B[1;33m\u001B[0m\u001B[0m\n\u001B[1;32m--> 153\u001B[1;33m         \u001B[0mret\u001B[0m \u001B[1;33m=\u001B[0m \u001B[0ma\u001B[0m \u001B[1;33m@\u001B[0m \u001B[0mb\u001B[0m\u001B[1;33m\u001B[0m\u001B[1;33m\u001B[0m\u001B[0m\n\u001B[0m\u001B[0;32m    154\u001B[0m \u001B[1;33m\u001B[0m\u001B[0m\n\u001B[0;32m    155\u001B[0m     if (sparse.issparse(a) and sparse.issparse(b)\n",
      "\u001B[1;31mValueError\u001B[0m: matmul: Input operand 1 has a mismatch in its core dimension 0, with gufunc signature (n?,k),(k,m?)->(n?,m?) (size 11 is different from 10)"
     ]
    }
   ],
   "source": [
    "from sklearn.neural_network import MLPClassifier\n",
    "\n",
    "trainDf = pd.read_csv(\"train.csv\")\n",
    "mlpClass = MLPClassifier(hidden_layer_sizes=(110, 80, 50, 30, 10), solver=\"lbfgs\", random_state=42, max_iter=5000)\n",
    "\n",
    "trainDf.fillna(value= {\n",
    "                        \"Pclass\":   trainDf['Pclass'].value_counts().max(),\n",
    "                        \"Sex\":      trainDf['Sex'].value_counts().max(),\n",
    "                        \"Age\":      trainDf['Age'].mean(),\n",
    "                        \"SibSp\":    trainDf['SibSp'].value_counts().max(),\n",
    "                        \"Parch\":    trainDf[\"Parch\"].value_counts().max(),\n",
    "                        \"Fare\":     trainDf['Fare'].mean(),\n",
    "                        \"Embarked\": trainDf[\"Embarked\"].value_counts().max()\n",
    "                      }, inplace=True)\n",
    "\n",
    "XMlp = pd.get_dummies(trainDf[[\"Pclass\", \"Sex\", \"Age\", \"SibSp\", \"Parch\", \"Fare\", \"Embarked\"]])\n",
    "yMlp = trainDf[\"Survived\"].values\n",
    "\n",
    "mlpX_Train, mlpX_Test, mlpY_Train, mlpY_Test = train_test_split(XMlp, yMlp, test_size=0.3, random_state=42)\n",
    "\n",
    "mlpClass.fit(mlpX_Train, mlpY_Train)\n",
    "print(\"Score: \", mlpClass.score(mlpX_Test, mlpY_Test))\n",
    "\n",
    "testMlp = pd.read_csv(\"test.csv\")\n",
    "testMlp.fillna(value= {\n",
    "                        \"Pclass\":   testMlp['Pclass'].value_counts().max(),\n",
    "                        \"Sex\":      testMlp['Sex'].value_counts().max(),\n",
    "                        \"Age\":      testMlp['Age'].mean(),\n",
    "                        \"SibSp\":    testMlp['SibSp'].value_counts().max(),\n",
    "                        \"Parch\":    testMlp[\"Parch\"].value_counts().max(),\n",
    "                        \"Fare\":     testMlp['Fare'].mean(),\n",
    "                        \"Embarked\": testMlp[\"Embarked\"].value_counts().max()\n",
    "                      }, inplace=True)\n",
    "\n",
    "testMlp[\"Survived\"] = mlpClass.predict(pd.get_dummies(testMlp[[\"Pclass\", \"Sex\", \"Age\", \"SibSp\", \"Parch\", \"Fare\", \"Embarked\"]]))\n",
    "testMlp[[\"PassengerId\", \"Survived\"]].to_csv(\"mlp.csv\")\n"
   ],
   "metadata": {
    "collapsed": false,
    "pycharm": {
     "name": "#%%\n"
    }
   }
  }
 ],
 "metadata": {
  "kernelspec": {
   "display_name": "Python 3",
   "language": "python",
   "name": "python3"
  },
  "language_info": {
   "codemirror_mode": {
    "name": "ipython",
    "version": 2
   },
   "file_extension": ".py",
   "mimetype": "text/x-python",
   "name": "python",
   "nbconvert_exporter": "python",
   "pygments_lexer": "ipython2",
   "version": "2.7.6"
  }
 },
 "nbformat": 4,
 "nbformat_minor": 0
}